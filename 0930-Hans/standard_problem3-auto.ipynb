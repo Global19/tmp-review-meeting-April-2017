{
 "cells": [
  {
   "cell_type": "markdown",
   "metadata": {
    "deletable": true,
    "editable": true
   },
   "source": [
    "![OpenDreamKit logo and EU Flag](header.png)\n",
    "\n",
    "# Micromagnetic standard problem 3\n",
    "\n",
    "OpenDreamKit review meeting 26 April 2017, Brussels\n",
    "\n",
    "## Problem specification\n",
    "\n",
    "This problem is to calculate a single domain limit of a cubic magnetic particle. This is the size $L$ of equal energy for the so-called flower state (which one may also call a splayed state or a modified single-domain state) on the one hand, and the vortex or curling state on the other hand.\n",
    "\n",
    "Geometry:\n",
    "\n",
    "A cube with edge length, $L$, expressed in units of the intrinsic length scale, $l_\\text{ex} = \\sqrt{A/K_\\text{m}}$, where $K_\\text{m}$ is a magnetostatic energy density, $K_\\text{m} = \\frac{1}{2}\\mu_{0}M_\\text{s}^{2}$.\n",
    "\n",
    "Material parameters: \n",
    "\n",
    "- uniaxial anisotropy $K_\\text{u}$ with $K_\\text{u} = 0.1 K_\\text{m}$, and with the easy axis directed parallel to a principal axis of the cube (0, 0, 1),\n",
    "- exchange energy constant is $A = \\frac{1}{2}\\mu_{0}M_\\text{s}^{2}l_\\text{ex}^{2}$.\n",
    "\n",
    "More details about the standard problem 3 can be found in Ref. 1.\n",
    "\n",
    "## Simulation"
   ]
  },
  {
   "cell_type": "code",
   "execution_count": 1,
   "metadata": {
    "collapsed": false,
    "deletable": true,
    "editable": true
   },
   "outputs": [
    {
     "data": {
      "application/javascript": [
       "// parameters in seconds\n",
       "var STEP_DELAY = 1;\n",
       "var RESTART_DELAY = 3;\n",
       "\n",
       "require([\"jquery\", \"base/js/namespace\"], function($, Jupyter) {\n",
       "  var Autoplay = function() {\n",
       "    this.interval = null;\n",
       "    this._stopped = false;\n",
       "    this.step_ms = STEP_DELAY * 1000;\n",
       "    this.restart_ms = RESTART_DELAY * 1000;\n",
       "  };\n",
       "\n",
       "  Autoplay.prototype.step = function() {\n",
       "    // don't do anything if another window has focus\n",
       "    if (!document.hasFocus()) {\n",
       "      console.debug(\"autoplay: out of focus\");\n",
       "      return;\n",
       "    }\n",
       "    if (this.busy) {\n",
       "      console.debug(\"autoplay: busy...\");\n",
       "      return;\n",
       "    }\n",
       "    var nb = Jupyter.notebook;\n",
       "    if (nb.keyboard_manager.mode === \"edit\") {\n",
       "      // don't auto-execute while a cell is being edited\n",
       "      console.debug(\"autoplay: in edit mode\");\n",
       "      return;\n",
       "    }\n",
       "    if (\n",
       "      nb.get_selected_index() + 1 === nb.ncells() &&\n",
       "      nb.get_selected_cell().get_text().trim() === \"\"\n",
       "    ) {\n",
       "      // at the end\n",
       "      this.schedule_restart();\n",
       "    } else {\n",
       "      Jupyter.notebook.execute_cell_and_select_below();\n",
       "    }\n",
       "  };\n",
       "\n",
       "  Autoplay.prototype.schedule_restart = function() {\n",
       "    // called when we reach the end\n",
       "    var autoplay = this;\n",
       "    this._stop();\n",
       "    console.debug(\"autoplay: scheduling restart\");\n",
       "    setTimeout(\n",
       "      function() {\n",
       "        if (this._stopped) {\n",
       "          // someone else stopped us\n",
       "          console.debug(\"autoplay: aborting restart\");\n",
       "          return;\n",
       "        }\n",
       "        console.debug(\"autoplay: restarting\");\n",
       "        var nb = Jupyter.notebook;\n",
       "        nb.clear_all_output();\n",
       "        nb.select(0);\n",
       "        nb.restart_kernel({ confirm: false }).then(function() {\n",
       "          autoplay.start();\n",
       "        });\n",
       "      },\n",
       "      this.restart_ms\n",
       "    );\n",
       "  };\n",
       "\n",
       "  Autoplay.prototype.stop = function() {\n",
       "    this._stopped = true;\n",
       "    this.busy = false;\n",
       "    if (this.interval) {\n",
       "      console.debug(\"autoplay: stopping\");\n",
       "      this._stop();\n",
       "    }\n",
       "  };\n",
       "\n",
       "  Autoplay.prototype._stop = function() {\n",
       "    clearInterval(this.interval);\n",
       "    this.interval = null;\n",
       "  };\n",
       "\n",
       "  Autoplay.prototype.start = function(ms) {\n",
       "    ms = ms || this.step_ms;\n",
       "    this._stop();\n",
       "    var nb = Jupyter.notebook;\n",
       "    console.debug(\"autoplay: starting\");\n",
       "    this.pasued = false;\n",
       "    var autoplay = this;\n",
       "    autoplay.busy = false;\n",
       "    nb.events.on('kernel_busy.Kernel', function () {\n",
       "      autoplay.busy = true;\n",
       "    });\n",
       "    nb.events.on('kernel_idle.Kernel', function () {\n",
       "      autoplay.busy = false;\n",
       "    });\n",
       "    this.interval = setInterval(\n",
       "      function() {\n",
       "        autoplay.step();\n",
       "      },\n",
       "      ms\n",
       "    );\n",
       "  };\n",
       "\n",
       "  // create and start the global instance\n",
       "  // avoid duplicate instances:\n",
       "  if (window.autoplay) {\n",
       "    window.autoplay.stop();\n",
       "  }\n",
       "\n",
       "  window.autoplay = new Autoplay();\n",
       "  window.autoplay.start();\n",
       "\n",
       "  return {\n",
       "    Autoplay: Autoplay,\n",
       "  };\n",
       "});\n"
      ]
     },
     "metadata": {},
     "output_type": "display_data"
    }
   ],
   "source": [
    "%run ./autoplay.py"
   ]
  },
  {
   "cell_type": "code",
   "execution_count": 5,
   "metadata": {
    "collapsed": false,
    "deletable": true,
    "editable": true
   },
   "outputs": [],
   "source": [
    "import discretisedfield as df\n",
    "import oommfc as oc\n",
    "import numpy as np\n",
    "%matplotlib inline\n",
    "\n",
    "\n",
    "def m_init_flower(pos):                 \n",
    "    \"\"\"Function for initiaising the flower state.\"\"\"\n",
    "    x, y, z = pos[0]/1e-9, pos[1]/1e-9, pos[2]/1e-9\n",
    "    mx = 0\n",
    "    my = 2*z - 1\n",
    "    mz = -2*y + 1\n",
    "    norm_squared = mx**2 + my**2 + mz**2\n",
    "    if norm_squared <= 0.05:\n",
    "        return (1, 0, 0)\n",
    "    else:\n",
    "        return (mx, my, mz)\n",
    "\n",
    "def m_init_vortex(pos):\n",
    "    \"\"\"Function for initialising the vortex state.\"\"\"\n",
    "    x, y, z = pos[0]/1e-9, pos[1]/1e-9, pos[2]/1e-9\n",
    "    mx = 0\n",
    "    my = np.sin(np.pi/2 * (x-0.5))\n",
    "    mz = np.cos(np.pi/2 * (x-0.5))\n",
    "    return (mx, my, mz)\n",
    "\n",
    "def minimise_system_energy(L, m_init):\n",
    "    print(\"Working on L={} ({})\".format(L, m_init.__name__))\n",
    "    N = 10                      # discretisation in one dimension\n",
    "    cubesize = 100e-9           # cube edge length (m)\n",
    "    cellsize = cubesize/N       # discretisation in all three dimensions.\n",
    "    lex = cubesize/L            # exchange length.\n",
    "    \n",
    "    Km = 1e6                    # magnetostatic energy density (J/m**3)\n",
    "    Ms = np.sqrt(2*Km/oc.mu0)   # magnetisation saturation (A/m)\n",
    "    A = 0.5 * oc.mu0 * Ms**2 * lex**2  # exchange energy constant\n",
    "    K = 0.1*Km                  # Uniaxial anisotropy constant\n",
    "    u = (0, 0, 1)               # Uniaxial anisotropy easy-axis\n",
    "\n",
    "    p1 = (0, 0, 0)              # Minimum sample coordinate.\n",
    "    p2 = (cubesize, cubesize, cubesize)  # Maximum sample coordinate.\n",
    "    cell = (cellsize, cellsize, cellsize)  # Discretisation.\n",
    "    mesh = oc.Mesh(p1=(0, 0, 0), p2=(cubesize, cubesize, cubesize),\n",
    "                   cell=(cellsize, cellsize, cellsize))  # Create a mesh object.\n",
    "\n",
    "    system = oc.System(name=\"stdprob3\")\n",
    "    system.hamiltonian = oc.Exchange(A) \\\n",
    "                         + oc.UniaxialAnisotropy(K, u) \\\n",
    "                         + oc.Demag()\n",
    "    system.m = df.Field(mesh, value=m_init, norm=Ms)\n",
    "\n",
    "    md = oc.MinDriver()         # minimise system energy\n",
    "    md.drive(system)\n",
    "    \n",
    "    return system"
   ]
  },
  {
   "cell_type": "markdown",
   "metadata": {
    "deletable": true,
    "editable": true
   },
   "source": [
    "### Compute relaxed magnetisation states with one function call\n",
    "\n",
    "**Vortex** state:"
   ]
  },
  {
   "cell_type": "code",
   "execution_count": 7,
   "metadata": {
    "collapsed": false,
    "deletable": true,
    "editable": true
   },
   "outputs": [
    {
     "name": "stdout",
     "output_type": "stream",
     "text": [
      "Working on L=8 (m_init_vortex)\n",
      "2017/4/26 0:16: Calling OOMMF (stdprob3/stdprob3.mif) ... [6.1s]\n",
      "Total energy is 3.207212348928367e-16J\n"
     ]
    },
    {
     "data": {
      "image/png": "[encoded data removed]",
      "text/plain": [
       "<matplotlib.figure.Figure at 0x112bc73c8>"
      ]
     },
     "metadata": {},
     "output_type": "display_data"
    }
   ],
   "source": [
    "system = minimise_system_energy(8, m_init_vortex)\n",
    "print(\"Total energy is {}J\".format(system.total_energy()))\n",
    "system.m.plot_slice('y', 50e-9, xsize=4);"
   ]
  },
  {
   "cell_type": "markdown",
   "metadata": {
    "deletable": true,
    "editable": true
   },
   "source": [
    "**Flower** state:"
   ]
  },
  {
   "cell_type": "code",
   "execution_count": 8,
   "metadata": {
    "collapsed": false,
    "deletable": true,
    "editable": true
   },
   "outputs": [
    {
     "name": "stdout",
     "output_type": "stream",
     "text": [
      "Working on L=8 (m_init_flower)\n",
      "2017/4/26 0:16: Calling OOMMF (stdprob3/stdprob3.mif) ... "
     ]
    },
    {
     "ename": "KeyboardInterrupt",
     "evalue": "",
     "output_type": "error",
     "traceback": [
      "\u001b[0;31m---------------------------------------------------------------------------\u001b[0m",
      "\u001b[0;31mKeyboardInterrupt\u001b[0m                         Traceback (most recent call last)",
      "\u001b[0;32m<ipython-input-8-657617c1ffc4>\u001b[0m in \u001b[0;36m<module>\u001b[0;34m()\u001b[0m\n\u001b[0;32m----> 1\u001b[0;31m \u001b[0msystem\u001b[0m \u001b[0;34m=\u001b[0m \u001b[0mminimise_system_energy\u001b[0m\u001b[0;34m(\u001b[0m\u001b[0;36m8\u001b[0m\u001b[0;34m,\u001b[0m \u001b[0mm_init_flower\u001b[0m\u001b[0;34m)\u001b[0m\u001b[0;34m\u001b[0m\u001b[0m\n\u001b[0m\u001b[1;32m      2\u001b[0m \u001b[0mprint\u001b[0m\u001b[0;34m(\u001b[0m\u001b[0;34m\"Total energy is {}J\"\u001b[0m\u001b[0;34m.\u001b[0m\u001b[0mformat\u001b[0m\u001b[0;34m(\u001b[0m\u001b[0msystem\u001b[0m\u001b[0;34m.\u001b[0m\u001b[0mtotal_energy\u001b[0m\u001b[0;34m(\u001b[0m\u001b[0;34m)\u001b[0m\u001b[0;34m)\u001b[0m\u001b[0;34m)\u001b[0m\u001b[0;34m\u001b[0m\u001b[0m\n\u001b[1;32m      3\u001b[0m \u001b[0msystem\u001b[0m\u001b[0;34m.\u001b[0m\u001b[0mm\u001b[0m\u001b[0;34m.\u001b[0m\u001b[0mplot_slice\u001b[0m\u001b[0;34m(\u001b[0m\u001b[0;34m'x'\u001b[0m\u001b[0;34m,\u001b[0m \u001b[0;36m50e-9\u001b[0m\u001b[0;34m,\u001b[0m \u001b[0mxsize\u001b[0m\u001b[0;34m=\u001b[0m\u001b[0;36m4\u001b[0m\u001b[0;34m)\u001b[0m\u001b[0;34m;\u001b[0m\u001b[0;34m\u001b[0m\u001b[0m\n",
      "\u001b[0;32m<ipython-input-5-e6833d73ca02>\u001b[0m in \u001b[0;36mminimise_system_energy\u001b[0;34m(L, m_init)\u001b[0m\n\u001b[1;32m     49\u001b[0m \u001b[0;34m\u001b[0m\u001b[0m\n\u001b[1;32m     50\u001b[0m     \u001b[0mmd\u001b[0m \u001b[0;34m=\u001b[0m \u001b[0moc\u001b[0m\u001b[0;34m.\u001b[0m\u001b[0mMinDriver\u001b[0m\u001b[0;34m(\u001b[0m\u001b[0;34m)\u001b[0m         \u001b[0;31m# minimise system energy\u001b[0m\u001b[0;34m\u001b[0m\u001b[0m\n\u001b[0;32m---> 51\u001b[0;31m     \u001b[0mmd\u001b[0m\u001b[0;34m.\u001b[0m\u001b[0mdrive\u001b[0m\u001b[0;34m(\u001b[0m\u001b[0msystem\u001b[0m\u001b[0;34m)\u001b[0m\u001b[0;34m\u001b[0m\u001b[0m\n\u001b[0m\u001b[1;32m     52\u001b[0m \u001b[0;34m\u001b[0m\u001b[0m\n\u001b[1;32m     53\u001b[0m     \u001b[0;32mreturn\u001b[0m \u001b[0msystem\u001b[0m\u001b[0;34m\u001b[0m\u001b[0m\n",
      "\u001b[0;32m/Users/fangohr/anaconda3/envs/joommf/lib/python3.6/site-packages/oommfc/drivers/driver.py\u001b[0m in \u001b[0;36mdrive\u001b[0;34m(self, system, **kwargs)\u001b[0m\n\u001b[1;32m     31\u001b[0m         \u001b[0mself\u001b[0m\u001b[0;34m.\u001b[0m\u001b[0m_save_mif\u001b[0m\u001b[0;34m(\u001b[0m\u001b[0msystem\u001b[0m\u001b[0;34m,\u001b[0m \u001b[0;34m**\u001b[0m\u001b[0mkwargs\u001b[0m\u001b[0;34m)\u001b[0m\u001b[0;34m\u001b[0m\u001b[0m\n\u001b[1;32m     32\u001b[0m \u001b[0;34m\u001b[0m\u001b[0m\n\u001b[0;32m---> 33\u001b[0;31m         \u001b[0mself\u001b[0m\u001b[0;34m.\u001b[0m\u001b[0m_run_simulator\u001b[0m\u001b[0;34m(\u001b[0m\u001b[0msystem\u001b[0m\u001b[0;34m)\u001b[0m\u001b[0;34m\u001b[0m\u001b[0m\n\u001b[0m\u001b[1;32m     34\u001b[0m \u001b[0;34m\u001b[0m\u001b[0m\n\u001b[1;32m     35\u001b[0m         \u001b[0;32mif\u001b[0m \u001b[0;34m\"derive\"\u001b[0m \u001b[0;32mnot\u001b[0m \u001b[0;32min\u001b[0m \u001b[0mkwargs\u001b[0m\u001b[0;34m:\u001b[0m\u001b[0;34m\u001b[0m\u001b[0m\n",
      "\u001b[0;32m/Users/fangohr/anaconda3/envs/joommf/lib/python3.6/site-packages/oommfc/drivers/driver.py\u001b[0m in \u001b[0;36m_run_simulator\u001b[0;34m(self, system)\u001b[0m\n\u001b[1;32m     60\u001b[0m         \u001b[0mmiffilename\u001b[0m \u001b[0;34m=\u001b[0m \u001b[0mself\u001b[0m\u001b[0;34m.\u001b[0m\u001b[0m_filenames\u001b[0m\u001b[0;34m(\u001b[0m\u001b[0msystem\u001b[0m\u001b[0;34m)\u001b[0m\u001b[0;34m[\u001b[0m\u001b[0;34m\"miffilename\"\u001b[0m\u001b[0;34m]\u001b[0m\u001b[0;34m\u001b[0m\u001b[0m\n\u001b[1;32m     61\u001b[0m         \u001b[0moommf\u001b[0m \u001b[0;34m=\u001b[0m \u001b[0moc\u001b[0m\u001b[0;34m.\u001b[0m\u001b[0mOOMMF\u001b[0m\u001b[0;34m(\u001b[0m\u001b[0mself\u001b[0m\u001b[0;34m.\u001b[0m\u001b[0mvarname\u001b[0m\u001b[0;34m,\u001b[0m \u001b[0mdockerimage\u001b[0m\u001b[0;34m=\u001b[0m\u001b[0mself\u001b[0m\u001b[0;34m.\u001b[0m\u001b[0mdockerimage\u001b[0m\u001b[0;34m)\u001b[0m\u001b[0;34m\u001b[0m\u001b[0m\n\u001b[0;32m---> 62\u001b[0;31m         \u001b[0moommf\u001b[0m\u001b[0;34m.\u001b[0m\u001b[0mcall\u001b[0m\u001b[0;34m(\u001b[0m\u001b[0margstr\u001b[0m\u001b[0;34m=\u001b[0m\u001b[0mmiffilename\u001b[0m\u001b[0;34m)\u001b[0m\u001b[0;34m\u001b[0m\u001b[0m\n\u001b[0m\u001b[1;32m     63\u001b[0m         \u001b[0moommf\u001b[0m\u001b[0;34m.\u001b[0m\u001b[0mkill\u001b[0m\u001b[0;34m(\u001b[0m\u001b[0;34m)\u001b[0m\u001b[0;34m\u001b[0m\u001b[0m\n\u001b[1;32m     64\u001b[0m \u001b[0;34m\u001b[0m\u001b[0m\n",
      "\u001b[0;32m/Users/fangohr/anaconda3/envs/joommf/lib/python3.6/site-packages/oommfc/oommf.py\u001b[0m in \u001b[0;36mcall\u001b[0;34m(self, argstr, where)\u001b[0m\n\u001b[1;32m     92\u001b[0m         \u001b[0mwhere\u001b[0m \u001b[0;34m=\u001b[0m \u001b[0mself\u001b[0m\u001b[0;34m.\u001b[0m\u001b[0m_where_to_run\u001b[0m\u001b[0;34m(\u001b[0m\u001b[0mwhere\u001b[0m\u001b[0;34m=\u001b[0m\u001b[0mwhere\u001b[0m\u001b[0;34m)\u001b[0m\u001b[0;34m\u001b[0m\u001b[0m\n\u001b[1;32m     93\u001b[0m         \u001b[0;32mif\u001b[0m \u001b[0mwhere\u001b[0m \u001b[0;34m==\u001b[0m \u001b[0;34m\"host\"\u001b[0m\u001b[0;34m:\u001b[0m\u001b[0;34m\u001b[0m\u001b[0m\n\u001b[0;32m---> 94\u001b[0;31m             \u001b[0mval\u001b[0m \u001b[0;34m=\u001b[0m \u001b[0mself\u001b[0m\u001b[0;34m.\u001b[0m\u001b[0m_call_host\u001b[0m\u001b[0;34m(\u001b[0m\u001b[0margstr\u001b[0m\u001b[0;34m=\u001b[0m\u001b[0margstr\u001b[0m\u001b[0;34m)\u001b[0m\u001b[0;34m\u001b[0m\u001b[0m\n\u001b[0m\u001b[1;32m     95\u001b[0m         \u001b[0;32melif\u001b[0m \u001b[0mwhere\u001b[0m \u001b[0;34m==\u001b[0m \u001b[0;34m\"docker\"\u001b[0m\u001b[0;34m:\u001b[0m\u001b[0;34m\u001b[0m\u001b[0m\n\u001b[1;32m     96\u001b[0m             \u001b[0mval\u001b[0m \u001b[0;34m=\u001b[0m \u001b[0mself\u001b[0m\u001b[0;34m.\u001b[0m\u001b[0m_call_docker\u001b[0m\u001b[0;34m(\u001b[0m\u001b[0margstr\u001b[0m\u001b[0;34m=\u001b[0m\u001b[0margstr\u001b[0m\u001b[0;34m)\u001b[0m\u001b[0;34m\u001b[0m\u001b[0m\n",
      "\u001b[0;32m/Users/fangohr/anaconda3/envs/joommf/lib/python3.6/site-packages/oommfc/oommf.py\u001b[0m in \u001b[0;36m_call_host\u001b[0;34m(self, argstr)\u001b[0m\n\u001b[1;32m    131\u001b[0m         cmd = (\"tclsh\", oommfpath, \"boxsi\", \"+fg\",\n\u001b[1;32m    132\u001b[0m                argstr, \"-exitondone\", \"1\")\n\u001b[0;32m--> 133\u001b[0;31m         \u001b[0;32mreturn\u001b[0m \u001b[0mself\u001b[0m\u001b[0;34m.\u001b[0m\u001b[0m_run_cmd\u001b[0m\u001b[0;34m(\u001b[0m\u001b[0mcmd\u001b[0m\u001b[0;34m)\u001b[0m\u001b[0;34m\u001b[0m\u001b[0m\n\u001b[0m\u001b[1;32m    134\u001b[0m \u001b[0;34m\u001b[0m\u001b[0m\n\u001b[1;32m    135\u001b[0m     \u001b[0;32mdef\u001b[0m \u001b[0m_call_docker\u001b[0m\u001b[0;34m(\u001b[0m\u001b[0mself\u001b[0m\u001b[0;34m,\u001b[0m \u001b[0margstr\u001b[0m\u001b[0;34m)\u001b[0m\u001b[0;34m:\u001b[0m\u001b[0;34m\u001b[0m\u001b[0m\n",
      "\u001b[0;32m/Users/fangohr/anaconda3/envs/joommf/lib/python3.6/site-packages/oommfc/oommf.py\u001b[0m in \u001b[0;36m_run_cmd\u001b[0;34m(self, cmd)\u001b[0m\n\u001b[1;32m    144\u001b[0m     \u001b[0;32mdef\u001b[0m \u001b[0m_run_cmd\u001b[0m\u001b[0;34m(\u001b[0m\u001b[0mself\u001b[0m\u001b[0;34m,\u001b[0m \u001b[0mcmd\u001b[0m\u001b[0;34m)\u001b[0m\u001b[0;34m:\u001b[0m\u001b[0;34m\u001b[0m\u001b[0m\n\u001b[1;32m    145\u001b[0m         \u001b[0;32mif\u001b[0m \u001b[0msys\u001b[0m\u001b[0;34m.\u001b[0m\u001b[0mplatform\u001b[0m \u001b[0;32min\u001b[0m \u001b[0;34m(\u001b[0m\u001b[0;34m\"linux\"\u001b[0m\u001b[0;34m,\u001b[0m \u001b[0;34m\"darwin\"\u001b[0m\u001b[0;34m)\u001b[0m\u001b[0;34m:\u001b[0m  \u001b[0;31m# Linux and MacOs\u001b[0m\u001b[0;34m\u001b[0m\u001b[0m\n\u001b[0;32m--> 146\u001b[0;31m             \u001b[0;32mreturn\u001b[0m \u001b[0msarge\u001b[0m\u001b[0;34m.\u001b[0m\u001b[0mcapture_both\u001b[0m\u001b[0;34m(\u001b[0m\u001b[0mcmd\u001b[0m\u001b[0;34m)\u001b[0m\u001b[0;34m\u001b[0m\u001b[0m\n\u001b[0m\u001b[1;32m    147\u001b[0m         \u001b[0;32melif\u001b[0m \u001b[0msys\u001b[0m\u001b[0;34m.\u001b[0m\u001b[0mplatform\u001b[0m\u001b[0;34m.\u001b[0m\u001b[0mstartswith\u001b[0m\u001b[0;34m(\u001b[0m\u001b[0;34m\"win\"\u001b[0m\u001b[0;34m)\u001b[0m\u001b[0;34m:\u001b[0m\u001b[0;34m\u001b[0m\u001b[0m\n\u001b[1;32m    148\u001b[0m             \u001b[0;32mreturn\u001b[0m \u001b[0msarge\u001b[0m\u001b[0;34m.\u001b[0m\u001b[0mrun\u001b[0m\u001b[0;34m(\u001b[0m\u001b[0mcmd\u001b[0m\u001b[0;34m)\u001b[0m\u001b[0;34m\u001b[0m\u001b[0m\n",
      "\u001b[0;32m/Users/fangohr/anaconda3/envs/joommf/lib/python3.6/site-packages/sarge/__init__.py\u001b[0m in \u001b[0;36mcapture_both\u001b[0;34m(cmd, **kwargs)\u001b[0m\n\u001b[1;32m   1441\u001b[0m     \u001b[0mkwargs\u001b[0m\u001b[0;34m[\u001b[0m\u001b[0;34m'stdout'\u001b[0m\u001b[0;34m]\u001b[0m \u001b[0;34m=\u001b[0m \u001b[0mCapture\u001b[0m\u001b[0;34m(\u001b[0m\u001b[0;34m)\u001b[0m\u001b[0;34m\u001b[0m\u001b[0m\n\u001b[1;32m   1442\u001b[0m     \u001b[0mkwargs\u001b[0m\u001b[0;34m[\u001b[0m\u001b[0;34m'stderr'\u001b[0m\u001b[0;34m]\u001b[0m \u001b[0;34m=\u001b[0m \u001b[0mCapture\u001b[0m\u001b[0;34m(\u001b[0m\u001b[0;34m)\u001b[0m\u001b[0;34m\u001b[0m\u001b[0m\n\u001b[0;32m-> 1443\u001b[0;31m     \u001b[0;32mreturn\u001b[0m \u001b[0mrun\u001b[0m\u001b[0;34m(\u001b[0m\u001b[0mcmd\u001b[0m\u001b[0;34m,\u001b[0m \u001b[0;34m**\u001b[0m\u001b[0mkwargs\u001b[0m\u001b[0;34m)\u001b[0m\u001b[0;34m\u001b[0m\u001b[0m\n\u001b[0m\u001b[1;32m   1444\u001b[0m \u001b[0;34m\u001b[0m\u001b[0m\n\u001b[1;32m   1445\u001b[0m \u001b[0;34m\u001b[0m\u001b[0m\n",
      "\u001b[0;32m/Users/fangohr/anaconda3/envs/joommf/lib/python3.6/site-packages/sarge/__init__.py\u001b[0m in \u001b[0;36mrun\u001b[0;34m(cmd, **kwargs)\u001b[0m\n\u001b[1;32m   1409\u001b[0m     \u001b[0;32melse\u001b[0m\u001b[0;34m:\u001b[0m\u001b[0;34m\u001b[0m\u001b[0m\n\u001b[1;32m   1410\u001b[0m         \u001b[0;32mwith\u001b[0m \u001b[0mPipeline\u001b[0m\u001b[0;34m(\u001b[0m\u001b[0mcmd\u001b[0m\u001b[0;34m,\u001b[0m \u001b[0;34m**\u001b[0m\u001b[0mkwargs\u001b[0m\u001b[0;34m)\u001b[0m \u001b[0;32mas\u001b[0m \u001b[0mp\u001b[0m\u001b[0;34m:\u001b[0m\u001b[0;34m\u001b[0m\u001b[0m\n\u001b[0;32m-> 1411\u001b[0;31m             \u001b[0mp\u001b[0m\u001b[0;34m.\u001b[0m\u001b[0mrun\u001b[0m\u001b[0;34m(\u001b[0m\u001b[0minput\u001b[0m\u001b[0;34m=\u001b[0m\u001b[0minput\u001b[0m\u001b[0;34m,\u001b[0m \u001b[0masync\u001b[0m\u001b[0;34m=\u001b[0m\u001b[0masync\u001b[0m\u001b[0;34m)\u001b[0m\u001b[0;34m\u001b[0m\u001b[0m\n\u001b[0m\u001b[1;32m   1412\u001b[0m     \u001b[0;32mreturn\u001b[0m \u001b[0mp\u001b[0m\u001b[0;34m\u001b[0m\u001b[0m\n\u001b[1;32m   1413\u001b[0m \u001b[0;34m\u001b[0m\u001b[0m\n",
      "\u001b[0;32m/Users/fangohr/anaconda3/envs/joommf/lib/python3.6/site-packages/sarge/__init__.py\u001b[0m in \u001b[0;36mrun\u001b[0;34m(self, input, async)\u001b[0m\n\u001b[1;32m   1038\u001b[0m         \u001b[0;31m# Issue #20: run in thread if async\u001b[0m\u001b[0;34m\u001b[0m\u001b[0;34m\u001b[0m\u001b[0m\n\u001b[1;32m   1039\u001b[0m         \u001b[0;32mif\u001b[0m \u001b[0;32mnot\u001b[0m \u001b[0masync\u001b[0m\u001b[0;34m:\u001b[0m\u001b[0;34m\u001b[0m\u001b[0m\n\u001b[0;32m-> 1040\u001b[0;31m             \u001b[0mself\u001b[0m\u001b[0;34m.\u001b[0m\u001b[0mrun_node\u001b[0m\u001b[0;34m(\u001b[0m\u001b[0mnode\u001b[0m\u001b[0;34m,\u001b[0m \u001b[0minput\u001b[0m\u001b[0;34m=\u001b[0m\u001b[0minput\u001b[0m\u001b[0;34m,\u001b[0m \u001b[0masync\u001b[0m\u001b[0;34m=\u001b[0m\u001b[0masync\u001b[0m\u001b[0;34m)\u001b[0m\u001b[0;34m\u001b[0m\u001b[0m\n\u001b[0m\u001b[1;32m   1041\u001b[0m         \u001b[0;32melse\u001b[0m\u001b[0;34m:\u001b[0m\u001b[0;34m\u001b[0m\u001b[0m\n\u001b[1;32m   1042\u001b[0m             \u001b[0mself\u001b[0m\u001b[0;34m.\u001b[0m\u001b[0mrun_node_in_thread\u001b[0m\u001b[0;34m(\u001b[0m\u001b[0mnode\u001b[0m\u001b[0;34m,\u001b[0m \u001b[0minput\u001b[0m\u001b[0;34m,\u001b[0m \u001b[0masync\u001b[0m\u001b[0;34m=\u001b[0m\u001b[0;32mTrue\u001b[0m\u001b[0;34m)\u001b[0m\u001b[0;34m\u001b[0m\u001b[0m\n",
      "\u001b[0;32m/Users/fangohr/anaconda3/envs/joommf/lib/python3.6/site-packages/sarge/__init__.py\u001b[0m in \u001b[0;36mrun_node\u001b[0;34m(self, node, input, async, event)\u001b[0m\n\u001b[1;32m   1134\u001b[0m         \u001b[0mkind\u001b[0m \u001b[0;34m=\u001b[0m \u001b[0mnode\u001b[0m\u001b[0;34m.\u001b[0m\u001b[0mkind\u001b[0m\u001b[0;34m\u001b[0m\u001b[0m\n\u001b[1;32m   1135\u001b[0m         \u001b[0mmethod\u001b[0m \u001b[0;34m=\u001b[0m \u001b[0;34m'run_%s_node'\u001b[0m \u001b[0;34m%\u001b[0m \u001b[0mkind\u001b[0m\u001b[0;34m\u001b[0m\u001b[0m\n\u001b[0;32m-> 1136\u001b[0;31m         \u001b[0mresult\u001b[0m \u001b[0;34m=\u001b[0m \u001b[0mgetattr\u001b[0m\u001b[0;34m(\u001b[0m\u001b[0mself\u001b[0m\u001b[0;34m,\u001b[0m \u001b[0mmethod\u001b[0m\u001b[0;34m)\u001b[0m\u001b[0;34m(\u001b[0m\u001b[0mnode\u001b[0m\u001b[0;34m,\u001b[0m \u001b[0minput\u001b[0m\u001b[0;34m,\u001b[0m \u001b[0masync\u001b[0m\u001b[0;34m)\u001b[0m\u001b[0;34m\u001b[0m\u001b[0m\n\u001b[0m\u001b[1;32m   1137\u001b[0m         \u001b[0;32mif\u001b[0m \u001b[0mevent\u001b[0m\u001b[0;34m:\u001b[0m\u001b[0;34m\u001b[0m\u001b[0m\n\u001b[1;32m   1138\u001b[0m             \u001b[0mevent\u001b[0m\u001b[0;34m.\u001b[0m\u001b[0mset\u001b[0m\u001b[0;34m(\u001b[0m\u001b[0;34m)\u001b[0m\u001b[0;34m\u001b[0m\u001b[0m\n",
      "\u001b[0;32m/Users/fangohr/anaconda3/envs/joommf/lib/python3.6/site-packages/sarge/__init__.py\u001b[0m in \u001b[0;36mrun_command_node\u001b[0;34m(self, node, input, async)\u001b[0m\n\u001b[1;32m   1280\u001b[0m             \u001b[0mkwargs\u001b[0m\u001b[0;34m[\u001b[0m\u001b[0;34m'stderr'\u001b[0m\u001b[0;34m]\u001b[0m \u001b[0;34m=\u001b[0m \u001b[0mself\u001b[0m\u001b[0;34m.\u001b[0m\u001b[0mstderr\u001b[0m \u001b[0;32mor\u001b[0m \u001b[0mstderr\u001b[0m\u001b[0;34m\u001b[0m\u001b[0m\n\u001b[1;32m   1281\u001b[0m         \u001b[0mnode\u001b[0m\u001b[0;34m.\u001b[0m\u001b[0mcmd\u001b[0m \u001b[0;34m=\u001b[0m \u001b[0mself\u001b[0m\u001b[0;34m.\u001b[0m\u001b[0mnew_command\u001b[0m\u001b[0;34m(\u001b[0m\u001b[0mnode\u001b[0m\u001b[0;34m.\u001b[0m\u001b[0mcommand\u001b[0m\u001b[0;34m,\u001b[0m \u001b[0;34m**\u001b[0m\u001b[0mkwargs\u001b[0m\u001b[0;34m)\u001b[0m\u001b[0;34m\u001b[0m\u001b[0m\n\u001b[0;32m-> 1282\u001b[0;31m         \u001b[0mnode\u001b[0m\u001b[0;34m.\u001b[0m\u001b[0mcmd\u001b[0m\u001b[0;34m.\u001b[0m\u001b[0mrun\u001b[0m\u001b[0;34m(\u001b[0m\u001b[0minput\u001b[0m\u001b[0;34m=\u001b[0m\u001b[0minput\u001b[0m\u001b[0;34m,\u001b[0m \u001b[0masync\u001b[0m\u001b[0;34m=\u001b[0m\u001b[0masync\u001b[0m\u001b[0;34m)\u001b[0m\u001b[0;34m\u001b[0m\u001b[0m\n\u001b[0m\u001b[1;32m   1283\u001b[0m \u001b[0;34m\u001b[0m\u001b[0m\n\u001b[1;32m   1284\u001b[0m     \u001b[0;32mdef\u001b[0m \u001b[0mget_status\u001b[0m\u001b[0;34m(\u001b[0m\u001b[0mself\u001b[0m\u001b[0;34m,\u001b[0m \u001b[0mnode\u001b[0m\u001b[0;34m)\u001b[0m\u001b[0;34m:\u001b[0m\u001b[0;34m\u001b[0m\u001b[0m\n",
      "\u001b[0;32m/Users/fangohr/anaconda3/envs/joommf/lib/python3.6/site-packages/sarge/__init__.py\u001b[0m in \u001b[0;36mrun\u001b[0;34m(self, input, async)\u001b[0m\n\u001b[1;32m    652\u001b[0m             \u001b[0;32mif\u001b[0m \u001b[0;32mnot\u001b[0m \u001b[0masync\u001b[0m\u001b[0;34m:\u001b[0m\u001b[0;34m\u001b[0m\u001b[0m\n\u001b[1;32m    653\u001b[0m                 \u001b[0mlogger\u001b[0m\u001b[0;34m.\u001b[0m\u001b[0mdebug\u001b[0m\u001b[0;34m(\u001b[0m\u001b[0;34m'about to wait for process'\u001b[0m\u001b[0;34m)\u001b[0m\u001b[0;34m\u001b[0m\u001b[0m\n\u001b[0;32m--> 654\u001b[0;31m                 \u001b[0mp\u001b[0m\u001b[0;34m.\u001b[0m\u001b[0mwait\u001b[0m\u001b[0;34m(\u001b[0m\u001b[0;34m)\u001b[0m\u001b[0;34m\u001b[0m\u001b[0m\n\u001b[0m\u001b[1;32m    655\u001b[0m         \u001b[0;32mfinally\u001b[0m\u001b[0;34m:\u001b[0m\u001b[0;34m\u001b[0m\u001b[0m\n\u001b[1;32m    656\u001b[0m             \u001b[0mself\u001b[0m\u001b[0;34m.\u001b[0m\u001b[0mprocess_ready\u001b[0m\u001b[0;34m.\u001b[0m\u001b[0mset\u001b[0m\u001b[0;34m(\u001b[0m\u001b[0;34m)\u001b[0m\u001b[0;34m\u001b[0m\u001b[0m\n",
      "\u001b[0;32m/Users/fangohr/anaconda3/envs/joommf/lib/python3.6/subprocess.py\u001b[0m in \u001b[0;36mwait\u001b[0;34m(self, timeout, endtime)\u001b[0m\n\u001b[1;32m   1434\u001b[0m                         \u001b[0;32mif\u001b[0m \u001b[0mself\u001b[0m\u001b[0;34m.\u001b[0m\u001b[0mreturncode\u001b[0m \u001b[0;32mis\u001b[0m \u001b[0;32mnot\u001b[0m \u001b[0;32mNone\u001b[0m\u001b[0;34m:\u001b[0m\u001b[0;34m\u001b[0m\u001b[0m\n\u001b[1;32m   1435\u001b[0m                             \u001b[0;32mbreak\u001b[0m  \u001b[0;31m# Another thread waited.\u001b[0m\u001b[0;34m\u001b[0m\u001b[0m\n\u001b[0;32m-> 1436\u001b[0;31m                         \u001b[0;34m(\u001b[0m\u001b[0mpid\u001b[0m\u001b[0;34m,\u001b[0m \u001b[0msts\u001b[0m\u001b[0;34m)\u001b[0m \u001b[0;34m=\u001b[0m \u001b[0mself\u001b[0m\u001b[0;34m.\u001b[0m\u001b[0m_try_wait\u001b[0m\u001b[0;34m(\u001b[0m\u001b[0;36m0\u001b[0m\u001b[0;34m)\u001b[0m\u001b[0;34m\u001b[0m\u001b[0m\n\u001b[0m\u001b[1;32m   1437\u001b[0m                         \u001b[0;31m# Check the pid and loop as waitpid has been known to\u001b[0m\u001b[0;34m\u001b[0m\u001b[0;34m\u001b[0m\u001b[0m\n\u001b[1;32m   1438\u001b[0m                         \u001b[0;31m# return 0 even without WNOHANG in odd situations.\u001b[0m\u001b[0;34m\u001b[0m\u001b[0;34m\u001b[0m\u001b[0m\n",
      "\u001b[0;32m/Users/fangohr/anaconda3/envs/joommf/lib/python3.6/subprocess.py\u001b[0m in \u001b[0;36m_try_wait\u001b[0;34m(self, wait_flags)\u001b[0m\n\u001b[1;32m   1381\u001b[0m             \u001b[0;34m\"\"\"All callers to this function MUST hold self._waitpid_lock.\"\"\"\u001b[0m\u001b[0;34m\u001b[0m\u001b[0m\n\u001b[1;32m   1382\u001b[0m             \u001b[0;32mtry\u001b[0m\u001b[0;34m:\u001b[0m\u001b[0;34m\u001b[0m\u001b[0m\n\u001b[0;32m-> 1383\u001b[0;31m                 \u001b[0;34m(\u001b[0m\u001b[0mpid\u001b[0m\u001b[0;34m,\u001b[0m \u001b[0msts\u001b[0m\u001b[0;34m)\u001b[0m \u001b[0;34m=\u001b[0m \u001b[0mos\u001b[0m\u001b[0;34m.\u001b[0m\u001b[0mwaitpid\u001b[0m\u001b[0;34m(\u001b[0m\u001b[0mself\u001b[0m\u001b[0;34m.\u001b[0m\u001b[0mpid\u001b[0m\u001b[0;34m,\u001b[0m \u001b[0mwait_flags\u001b[0m\u001b[0;34m)\u001b[0m\u001b[0;34m\u001b[0m\u001b[0m\n\u001b[0m\u001b[1;32m   1384\u001b[0m             \u001b[0;32mexcept\u001b[0m \u001b[0mChildProcessError\u001b[0m\u001b[0;34m:\u001b[0m\u001b[0;34m\u001b[0m\u001b[0m\n\u001b[1;32m   1385\u001b[0m                 \u001b[0;31m# This happens if SIGCLD is set to be ignored or waiting\u001b[0m\u001b[0;34m\u001b[0m\u001b[0;34m\u001b[0m\u001b[0m\n",
      "\u001b[0;31mKeyboardInterrupt\u001b[0m: "
     ]
    }
   ],
   "source": [
    "system = minimise_system_energy(8, m_init_flower)\n",
    "print(\"Total energy is {}J\".format(system.total_energy()))\n",
    "system.m.plot_slice('x', 50e-9, xsize=4);"
   ]
  },
  {
   "cell_type": "markdown",
   "metadata": {
    "deletable": true,
    "editable": true
   },
   "source": [
    "### Compute table and plot for energy crossing"
   ]
  },
  {
   "cell_type": "code",
   "execution_count": null,
   "metadata": {
    "collapsed": false,
    "deletable": true,
    "editable": true
   },
   "outputs": [
    {
     "name": "stdout",
     "output_type": "stream",
     "text": [
      "Working on L=8.0 (m_init_vortex)\n",
      "2017/4/26 0:16: Calling OOMMF (stdprob3/stdprob3.mif) ... [6.2s]\n"
     ]
    }
   ],
   "source": [
    "L_array = np.linspace(8, 9, 4)  # values of L for which \n",
    "                                # the system is relaxed.\n",
    "vortex_energies = []\n",
    "flower_energies = []\n",
    "\n",
    "for L in L_array:               # iterate through simulation data points\n",
    "    vortex = minimise_system_energy(L, m_init_vortex)\n",
    "    flower = minimise_system_energy(L, m_init_flower)\n",
    "    \n",
    "    vortex_energies.append(vortex.total_energy())\n",
    "    flower_energies.append(flower.total_energy())\n",
    "    \n",
    "# Plot the results\n",
    "import matplotlib.pyplot as plt\n",
    "plt.plot(L_array, vortex_energies, 'o-', label='vortex')\n",
    "plt.plot(L_array, flower_energies, 'o-', label='flower')\n",
    "plt.xlabel('L (lex)')\n",
    "plt.ylabel('E')\n",
    "plt.xlim([8.0, 9.0])\n",
    "plt.grid()\n",
    "plt.legend()"
   ]
  },
  {
   "cell_type": "markdown",
   "metadata": {
    "deletable": true,
    "editable": true
   },
   "source": [
    "We now know that the energy crossing occurrs between $8l_\\text{ex}$ and $9l_\\text{ex}$, so a root finding algorithm can be used to find the exact crossing."
   ]
  },
  {
   "cell_type": "code",
   "execution_count": null,
   "metadata": {
    "collapsed": false,
    "deletable": true,
    "editable": true
   },
   "outputs": [],
   "source": [
    "from scipy.optimize import bisect\n",
    "\n",
    "def energy_difference(L):\n",
    "    vortex = minimise_system_energy(L, m_init_vortex)\n",
    "    flower = minimise_system_energy(L, m_init_flower)\n",
    "    \n",
    "    return vortex.total_energy() - flower.total_energy()\n",
    "\n",
    "xtol = 0.1\n",
    "cross_section = bisect(energy_difference, 8, 9, xtol=xtol)\n",
    "\n",
    "print(\"The transition between vortex and flower states\\n\" \n",
    "      \"occurs at {}*lex +-{}\".format(cross_section, xtol))"
   ]
  },
  {
   "cell_type": "markdown",
   "metadata": {
    "deletable": true,
    "editable": true
   },
   "source": [
    "## References\n",
    "[1] µMAG Site Directory http://www.ctcms.nist.gov/~rdm/mumag.org.html"
   ]
  },
  {
   "cell_type": "code",
   "execution_count": null,
   "metadata": {
    "collapsed": true,
    "deletable": true,
    "editable": true
   },
   "outputs": [],
   "source": []
  }
 ],
 "metadata": {
  "kernelspec": {
   "display_name": "Python 3",
   "language": "python",
   "name": "python3"
  },
  "language_info": {
   "codemirror_mode": {
    "name": "ipython",
    "version": 3
   },
   "file_extension": ".py",
   "mimetype": "text/x-python",
   "name": "python",
   "nbconvert_exporter": "python",
   "pygments_lexer": "ipython3",
   "version": "3.6.0"
  }
 },
 "nbformat": 4,
 "nbformat_minor": 0
}
