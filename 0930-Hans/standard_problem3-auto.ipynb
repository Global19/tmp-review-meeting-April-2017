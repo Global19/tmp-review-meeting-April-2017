{
 "cells": [
  {
   "cell_type": "markdown",
   "metadata": {
    "deletable": true,
    "editable": true
   },
   "source": [
    "![OpenDreamKit logo and EU Flag](header.png)\n",
    "\n",
    "# Micromagnetic standard problem 3\n",
    "\n",
    "OpenDreamKit review meeting 26 April 2017, Brussels\n",
    "\n",
    "## Problem specification\n",
    "\n",
    "This problem is to calculate a single domain limit of a cubic magnetic particle. This is the size $L$ of equal energy for the so-called flower state (which one may also call a splayed state or a modified single-domain state) on the one hand, and the vortex or curling state on the other hand.\n",
    "\n",
    "Geometry:\n",
    "\n",
    "A cube with edge length, $L$, expressed in units of the intrinsic length scale, $l_\\text{ex} = \\sqrt{A/K_\\text{m}}$, where $K_\\text{m}$ is a magnetostatic energy density, $K_\\text{m} = \\frac{1}{2}\\mu_{0}M_\\text{s}^{2}$.\n",
    "\n",
    "Material parameters: \n",
    "\n",
    "- uniaxial anisotropy $K_\\text{u}$ with $K_\\text{u} = 0.1 K_\\text{m}$, and with the easy axis directed parallel to a principal axis of the cube (0, 0, 1),\n",
    "- exchange energy constant is $A = \\frac{1}{2}\\mu_{0}M_\\text{s}^{2}l_\\text{ex}^{2}$.\n",
    "\n",
    "More details about the standard problem 3 can be found in Ref. 1.\n",
    "\n",
    "## Simulation"
   ]
  },
  {
   "cell_type": "code",
   "execution_count": null,
   "metadata": {
    "collapsed": false,
    "deletable": true,
    "editable": true
   },
   "outputs": [],
   "source": [
    "%run ./autoplay.py"
   ]
  },
  {
   "cell_type": "code",
   "execution_count": null,
   "metadata": {
    "collapsed": false,
    "deletable": true,
    "editable": true
   },
   "outputs": [],
   "source": [
    "import discretisedfield as df\n",
    "import oommfc as oc\n",
    "import numpy as np\n",
    "%matplotlib inline\n",
    "\n",
    "\n",
    "def m_init_flower(pos):                 \n",
    "    \"\"\"Function for initiaising the flower state.\"\"\"\n",
    "    x, y, z = pos[0]/1e-9, pos[1]/1e-9, pos[2]/1e-9\n",
    "    mx = 0\n",
    "    my = 2*z - 1\n",
    "    mz = -2*y + 1\n",
    "    norm_squared = mx**2 + my**2 + mz**2\n",
    "    if norm_squared <= 0.05:\n",
    "        return (1, 0, 0)\n",
    "    else:\n",
    "        return (mx, my, mz)\n",
    "\n",
    "def m_init_vortex(pos):\n",
    "    \"\"\"Function for initialising the vortex state.\"\"\"\n",
    "    x, y, z = pos[0]/1e-9, pos[1]/1e-9, pos[2]/1e-9\n",
    "    mx = 0\n",
    "    my = np.sin(np.pi/2 * (x-0.5))\n",
    "    mz = np.cos(np.pi/2 * (x-0.5))\n",
    "    return (mx, my, mz)\n",
    "\n",
    "def minimise_system_energy(L, m_init):\n",
    "    print(\"Working on L={} ({})\".format(L, m_init.__name__))\n",
    "    N = 10                      # discretisation in one dimension\n",
    "    cubesize = 100e-9           # cube edge length (m)\n",
    "    cellsize = cubesize/N       # discretisation in all three dimensions.\n",
    "    lex = cubesize/L            # exchange length.\n",
    "    \n",
    "    Km = 1e6                    # magnetostatic energy density (J/m**3)\n",
    "    Ms = np.sqrt(2*Km/oc.mu0)   # magnetisation saturation (A/m)\n",
    "    A = 0.5 * oc.mu0 * Ms**2 * lex**2  # exchange energy constant\n",
    "    K = 0.1*Km                  # Uniaxial anisotropy constant\n",
    "    u = (0, 0, 1)               # Uniaxial anisotropy easy-axis\n",
    "\n",
    "    p1 = (0, 0, 0)              # Minimum sample coordinate.\n",
    "    p2 = (cubesize, cubesize, cubesize)  # Maximum sample coordinate.\n",
    "    cell = (cellsize, cellsize, cellsize)  # Discretisation.\n",
    "    mesh = oc.Mesh(p1=(0, 0, 0), p2=(cubesize, cubesize, cubesize),\n",
    "                   cell=(cellsize, cellsize, cellsize))  # Create a mesh object.\n",
    "\n",
    "    system = oc.System(name=\"stdprob3\")\n",
    "    system.hamiltonian = oc.Exchange(A) \\\n",
    "                         + oc.UniaxialAnisotropy(K, u) \\\n",
    "                         + oc.Demag()\n",
    "    system.m = df.Field(mesh, value=m_init, norm=Ms)\n",
    "\n",
    "    md = oc.MinDriver()         # minimise system energy\n",
    "    md.drive(system)\n",
    "    \n",
    "    return system"
   ]
  },
  {
   "cell_type": "markdown",
   "metadata": {
    "deletable": true,
    "editable": true
   },
   "source": [
    "### Compute relaxed magnetisation states with one function call\n",
    "\n",
    "**Vortex** state:"
   ]
  },
  {
   "cell_type": "code",
   "execution_count": null,
   "metadata": {
    "collapsed": false,
    "deletable": true,
    "editable": true
   },
   "outputs": [],
   "source": [
    "system = minimise_system_energy(8, m_init_vortex)\n",
    "print(\"Total energy is {}J\".format(system.total_energy()))\n",
    "system.m.plot_slice('y', 50e-9, xsize=4);"
   ]
  },
  {
   "cell_type": "markdown",
   "metadata": {
    "deletable": true,
    "editable": true
   },
   "source": [
    "**Flower** state:"
   ]
  },
  {
   "cell_type": "code",
   "execution_count": null,
   "metadata": {
    "collapsed": false,
    "deletable": true,
    "editable": true
   },
   "outputs": [],
   "source": [
    "system = minimise_system_energy(8, m_init_flower)\n",
    "print(\"Total energy is {}J\".format(system.total_energy()))\n",
    "system.m.plot_slice('x', 50e-9, xsize=4);"
   ]
  },
  {
   "cell_type": "markdown",
   "metadata": {
    "deletable": true,
    "editable": true
   },
   "source": [
    "### Compute table and plot for energy crossing"
   ]
  },
  {
   "cell_type": "code",
   "execution_count": null,
   "metadata": {
    "collapsed": false,
    "deletable": true,
    "editable": true
   },
   "outputs": [],
   "source": [
    "L_array = np.linspace(8, 9, 4)  # values of L for which \n",
    "                                # the system is relaxed.\n",
    "vortex_energies = []\n",
    "flower_energies = []\n",
    "\n",
    "for L in L_array:               # iterate through simulation data points\n",
    "    vortex = minimise_system_energy(L, m_init_vortex)\n",
    "    flower = minimise_system_energy(L, m_init_flower)\n",
    "    \n",
    "    vortex_energies.append(vortex.total_energy())\n",
    "    flower_energies.append(flower.total_energy())\n",
    "    \n",
    "# Plot the results\n",
    "import matplotlib.pyplot as plt\n",
    "plt.plot(L_array, vortex_energies, 'o-', label='vortex')\n",
    "plt.plot(L_array, flower_energies, 'o-', label='flower')\n",
    "plt.xlabel('L (lex)')\n",
    "plt.ylabel('E')\n",
    "plt.xlim([8.0, 9.0])\n",
    "plt.grid()\n",
    "plt.legend()"
   ]
  },
  {
   "cell_type": "markdown",
   "metadata": {
    "deletable": true,
    "editable": true
   },
   "source": [
    "We now know that the energy crossing occurrs between $8l_\\text{ex}$ and $9l_\\text{ex}$, so a root finding algorithm can be used to find the exact crossing."
   ]
  },
  {
   "cell_type": "code",
   "execution_count": null,
   "metadata": {
    "collapsed": false,
    "deletable": true,
    "editable": true
   },
   "outputs": [],
   "source": [
    "from scipy.optimize import bisect\n",
    "\n",
    "def energy_difference(L):\n",
    "    vortex = minimise_system_energy(L, m_init_vortex)\n",
    "    flower = minimise_system_energy(L, m_init_flower)\n",
    "    \n",
    "    return vortex.total_energy() - flower.total_energy()\n",
    "\n",
    "xtol = 0.1\n",
    "cross_section = bisect(energy_difference, 8, 9, xtol=xtol)\n",
    "\n",
    "print(\"The transition between vortex and flower states\\n\" \n",
    "      \"occurs at {}*lex +-{}\".format(cross_section, xtol))"
   ]
  },
  {
   "cell_type": "markdown",
   "metadata": {
    "deletable": true,
    "editable": true
   },
   "source": [
    "## References\n",
    "[1] µMAG Site Directory http://www.ctcms.nist.gov/~rdm/mumag.org.html"
   ]
  },
  {
   "cell_type": "code",
   "execution_count": null,
   "metadata": {
    "collapsed": true,
    "deletable": true,
    "editable": true
   },
   "outputs": [],
   "source": []
  }
 ],
 "metadata": {
  "kernelspec": {
   "display_name": "Python 3",
   "language": "python",
   "name": "python3"
  },
  "language_info": {
   "codemirror_mode": {
    "name": "ipython",
    "version": 3
   },
   "file_extension": ".py",
   "mimetype": "text/x-python",
   "name": "python",
   "nbconvert_exporter": "python",
   "pygments_lexer": "ipython3",
   "version": "3.6.0"
  }
 },
 "nbformat": 4,
 "nbformat_minor": 0
}
